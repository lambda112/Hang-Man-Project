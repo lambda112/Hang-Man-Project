{
 "cells": [
  {
   "cell_type": "code",
   "execution_count": 4,
   "id": "2e62ad6a-912f-4725-9ba2-7f4be26e65c7",
   "metadata": {},
   "outputs": [
    {
     "name": "stdin",
     "output_type": "stream",
     "text": [
      "Who is choosing the word?:  Kamran\n",
      "Kamran Enter a Word:  Cheese\n"
     ]
    },
    {
     "name": "stdout",
     "output_type": "stream",
     "text": [
      "\n",
      "\n",
      "\n",
      "\n",
      "\n",
      "\n",
      "\n",
      "\n",
      "\n",
      "\n",
      "\n",
      "\n",
      "\n",
      "\n",
      "\n",
      "\n",
      "\n",
      "\n",
      "\n",
      "\n",
      "\n",
      "\n",
      "\n",
      "\n",
      "\n",
      "\n",
      "\n",
      "\n",
      "\n",
      "\n",
      "\n"
     ]
    },
    {
     "name": "stdin",
     "output_type": "stream",
     "text": [
      "Optional - Provide a Hint:  Nice on Sandwiches\n"
     ]
    },
    {
     "name": "stdout",
     "output_type": "stream",
     "text": [
      "For extra hints type: hint\n",
      "\n",
      "Kamran says Nice on Sandwiches\n"
     ]
    },
    {
     "name": "stdin",
     "output_type": "stream",
     "text": [
      "Enter a Letter:  c\n"
     ]
    },
    {
     "name": "stdout",
     "output_type": "stream",
     "text": [
      "c _ _ _ _ _ \n",
      "\n",
      "Kamran says Nice on Sandwiches\n"
     ]
    },
    {
     "name": "stdin",
     "output_type": "stream",
     "text": [
      "Enter a Letter:  h\n"
     ]
    },
    {
     "name": "stdout",
     "output_type": "stream",
     "text": [
      "c h _ _ _ _ \n",
      "\n",
      "Kamran says Nice on Sandwiches\n"
     ]
    },
    {
     "name": "stdin",
     "output_type": "stream",
     "text": [
      "Enter a Letter:  e\n"
     ]
    },
    {
     "name": "stdout",
     "output_type": "stream",
     "text": [
      "c h e _ _ _ \n",
      "\n",
      "c h e e _ _ \n",
      "\n",
      "c h e e _ e \n",
      "\n",
      "Kamran says Nice on Sandwiches\n"
     ]
    },
    {
     "name": "stdin",
     "output_type": "stream",
     "text": [
      "Enter a Letter:  s\n"
     ]
    },
    {
     "name": "stdout",
     "output_type": "stream",
     "text": [
      "c h e e s e \n",
      "\n",
      "\n",
      "You win the word was cheese\n"
     ]
    }
   ],
   "source": [
    "import random\n",
    "import pandas as pd\n",
    "import matplotlib.pyplot as plt\n",
    "import re\n",
    "from datetime import date\n",
    "\n",
    "def hang_man():\n",
    "    word = \"Kamran\".lower()\n",
    "    word2 = list(word)\n",
    "\n",
    "    holder = list(re.sub(r\"\\w\", \"_\", word))\n",
    "    guesses = 7\n",
    "    let = []\n",
    "\n",
    "    while guesses != 0:\n",
    "\n",
    "        letter = input(\"Enter a Letter: \")\n",
    "        if letter in word and letter not in let:\n",
    "            holder[word2.index(letter)] = letter\n",
    "            print(\" \".join(holder))\n",
    "            let.append(letter)\n",
    "\n",
    "        elif letter in let:\n",
    "            print(f\"You have guessed {let}\")\n",
    "            print(let)\n",
    "\n",
    "        else:\n",
    "            guesses = guesses - 1\n",
    "            let.append(letter)\n",
    "            \n",
    "\n",
    "name = input(\"Who is choosing the word?: \").capitalize()\n",
    "\n",
    "word = input(f\"{name} Enter a Word: \").lower()\n",
    "print(\"\\n\" * 30)\n",
    "hint = input(\"Optional - Provide a Hint: \")\n",
    "\n",
    "word2 = list(word)\n",
    "holder = list(re.sub(r\"\\w\", \"_\", word))\n",
    "guess = []\n",
    "guesses = 7\n",
    "\n",
    "\n",
    "print(\"For extra hints type: hint\\n\")\n",
    "while guesses > -1:\n",
    "    \n",
    "    print(f\"{name} says {hint}\")\n",
    "    \n",
    "    \n",
    "    letter = input(\"Enter a Letter: \").lower()\n",
    "    \n",
    "    if letter == \"hint\":\n",
    "        hint = input(\"Enter another hint?: \\n\")\n",
    "        letter = input(\"£nter a Letter: \").lower()\n",
    "    \n",
    "    for i,y in enumerate(word): \n",
    "        if letter in y:\n",
    "            holder[i] = word2[i]\n",
    "            print(\" \".join(holder),\"\\n\")\n",
    "        else:\n",
    "            continue\n",
    "            \n",
    "    if letter not in word:\n",
    "        print(f\"Wrong You Have {guesses} Guesses Left\\n\")\n",
    "        guesses = guesses - 1 \n",
    "\n",
    "    if letter in guess:\n",
    "        print(f\"Letter Already Guessed: {guess}\")\n",
    "        print(letter)\n",
    "    \n",
    "    if \"\".join(holder) == word:\n",
    "        print(f\"\\nYou win the word was {word}\")\n",
    "        break\n",
    "    \n",
    "    if guesses == -1:\n",
    "        print(f\"You Lose The Word Was {word.title()}\")\n",
    "        break\n",
    "        \n",
    "f = open(\"D:\\Programming Python\\Projects\\Hang-Man.txt\", \"a\")\n",
    "f.write(f\"Name: {name}, Word: {word}, Date: {date.today()}\\n\")\n",
    "f.close()"
   ]
  }
 ],
 "metadata": {
  "kernelspec": {
   "display_name": "Python 3 (ipykernel)",
   "language": "python",
   "name": "python3"
  },
  "language_info": {
   "codemirror_mode": {
    "name": "ipython",
    "version": 3
   },
   "file_extension": ".py",
   "mimetype": "text/x-python",
   "name": "python",
   "nbconvert_exporter": "python",
   "pygments_lexer": "ipython3",
   "version": "3.11.3"
  }
 },
 "nbformat": 4,
 "nbformat_minor": 5
}
